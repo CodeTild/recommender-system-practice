{
 "cells": [
  {
   "cell_type": "code",
   "execution_count": 49,
   "id": "50e00a9e",
   "metadata": {},
   "outputs": [],
   "source": [
    "import pandas as pd\n",
    "from sklearn.neighbors import NearestNeighbors\n",
    "import numpy as np\n",
    "from numpy import unique\n",
    "import matplotlib\n",
    "#matplotlib.use('tkagg')\n",
    "import matplotlib.pyplot as plt "
   ]
  },
  {
   "cell_type": "code",
   "execution_count": 50,
   "id": "45157656",
   "metadata": {},
   "outputs": [
    {
     "name": "stdout",
     "output_type": "stream",
     "text": [
      "                               media_id   media_type  \\\n",
      "0  4f81266d-8862-4137-872c-12e672919018        VIDEO   \n",
      "1  f724d4c4-5003-4b90-8026-a1d2cf6a7974  SHORT_VIDEO   \n",
      "2  897e89b6-5ee4-4d5a-b093-a541d279b9d3        VIDEO   \n",
      "3  ff83b0f1-2b66-411c-8edb-e28531e37c92  SHORT_VIDEO   \n",
      "4  55602748-ec9a-41a7-ace4-3305a781458d        VIDEO   \n",
      "\n",
      "                                user_id                  liked_date  \n",
      "0  73f8f843-0af1-4bca-b6c4-be163c2f299d  2022-07-30 21:40:41.761000  \n",
      "1  9651d425-a857-4896-b39c-e2523b45588c  2022-07-30 21:37:51.638000  \n",
      "2  982472af-02dc-44c4-a4b0-3d8423cc9a5c  2022-07-31 16:30:39.653000  \n",
      "3  20807b4a-dda2-4cf5-99b8-17c16cb2b359  2022-07-31 17:12:27.486000  \n",
      "4  8272b4ba-326c-4a6f-9552-236d8ae9357b  2022-08-01 01:01:59.285000  \n",
      "DataFrame size: (14491, 4)\n",
      "Number of  medias 5108\n",
      "Number of users: 6226\n"
     ]
    }
   ],
   "source": [
    "# Load Movies Metadata\n",
    "data = pd.read_csv('user_like_new.csv', low_memory=False)\n",
    "# Print the first three rows\n",
    "print(data.head())\n",
    "print (\"DataFrame size:\", data.shape)\n",
    "media_id_vec= data['media_id'].unique()\n",
    "print(\"Number of  medias\", len(media_id_vec))\n",
    "user_id_vec = data['user_id'].unique()\n",
    "print(\"Number of users:\", len(user_id_vec))"
   ]
  },
  {
   "cell_type": "code",
   "execution_count": null,
   "id": "2f7112cc",
   "metadata": {},
   "outputs": [],
   "source": [
    "count = 0 \n",
    "user_liked_list = []\n",
    "for u_item in user_id_vec:\n",
    "\tmforu_valus=data[data['user_id']== u_item]['media_id'].value_counts()\n",
    "\tif (mforu_valus.sum() != len (mforu_valus)):\n",
    "\t\tcount=count+1\n",
    "\tuser_liked_list.append(mforu_valus.sum())\n",
    "\n",
    "count_u =0\n",
    "media_liked_list = []\n",
    "for m_item in media_id_vec:\n",
    "\tuform_valus=data[data['media_id']== m_item]['user_id'].value_counts()\n",
    "\t#if (uform_valus.sum() == 0):\n",
    "\t#\tcount_u=count_u+1\n",
    "\tmedia_liked_list.append(uform_valus.sum())\n",
    "    \n",
    "print(count, \"Number of users liked an item more than once\")\n",
    "#print(count_u, \"NUmber of items have never been liked by any user\")\n"
   ]
  },
  {
   "cell_type": "code",
   "execution_count": null,
   "id": "73f6b073",
   "metadata": {},
   "outputs": [],
   "source": [
    "f = plt.figure(1)\n",
    "g = plt.figure(2)\n",
    "h = plt.figure(3)\n",
    "k = plt.figure(4)\n",
    "x = list (range(len (user_liked_list)))\n",
    "plt.plot(x, user_liked_list)\n",
    "plt.xlabel('user_id')\n",
    "# naming the y axis\n",
    "plt.ylabel('Total like for each user')\n",
    "  \n",
    "# giving a title to my graph\n",
    "plt.title('Number of items which has been liked by each user')\n",
    "f.show()\n"
   ]
  },
  {
   "cell_type": "code",
   "execution_count": null,
   "id": "a13d97c5",
   "metadata": {},
   "outputs": [],
   "source": [
    "plt.hist(user_liked_list)\n",
    "plt.title(\"histogram of users' liked numbers\")\n",
    "g.show() "
   ]
  },
  {
   "cell_type": "code",
   "execution_count": null,
   "id": "cfbf9d5c",
   "metadata": {},
   "outputs": [],
   "source": [
    "x = list (range(len (media_liked_list)))\n",
    "plt.plot(x, media_liked_list)\n",
    "plt.xlabel('x - axis')\n",
    "# naming the y axis\n",
    "plt.ylabel('y - axis')\n",
    "# giving a title to my graph\n",
    "plt.title('Number of users who has liked each media item')\n",
    "# function to show the plot\n",
    "h.show()"
   ]
  },
  {
   "cell_type": "code",
   "execution_count": null,
   "id": "da091281",
   "metadata": {},
   "outputs": [],
   "source": [
    "plt.hist(media_liked_list)\n",
    "plt.title(\"histogram of medias' liked numbers\")\n",
    "k.show()"
   ]
  }
 ],
 "metadata": {
  "kernelspec": {
   "display_name": "Python 3 (ipykernel)",
   "language": "python",
   "name": "python3"
  },
  "language_info": {
   "codemirror_mode": {
    "name": "ipython",
    "version": 3
   },
   "file_extension": ".py",
   "mimetype": "text/x-python",
   "name": "python",
   "nbconvert_exporter": "python",
   "pygments_lexer": "ipython3",
   "version": "3.8.10"
  }
 },
 "nbformat": 4,
 "nbformat_minor": 5
}
