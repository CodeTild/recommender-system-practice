{
 "cells": [
  {
   "cell_type": "code",
   "execution_count": 39,
   "id": "50e00a9e",
   "metadata": {},
   "outputs": [],
   "source": [
    "import pandas as pd\n",
    "from sklearn.neighbors import NearestNeighbors\n",
    "import numpy as np\n",
    "from numpy import unique\n",
    "import matplotlib\n",
    "matplotlib.use('tkagg')\n",
    "import matplotlib.pyplot as plt "
   ]
  },
  {
   "cell_type": "code",
   "execution_count": 40,
   "id": "45157656",
   "metadata": {},
   "outputs": [
    {
     "name": "stdout",
     "output_type": "stream",
     "text": [
      "                                   media_id   media_type  \\\n",
      "0      4f81266d-8862-4137-872c-12e672919018        VIDEO   \n",
      "1      f724d4c4-5003-4b90-8026-a1d2cf6a7974  SHORT_VIDEO   \n",
      "2      897e89b6-5ee4-4d5a-b093-a541d279b9d3        VIDEO   \n",
      "3      ff83b0f1-2b66-411c-8edb-e28531e37c92  SHORT_VIDEO   \n",
      "4      55602748-ec9a-41a7-ace4-3305a781458d        VIDEO   \n",
      "...                                     ...          ...   \n",
      "14486  1e65aaf7-24b4-4443-a78d-6fff22ff35bb        VIDEO   \n",
      "14487  ef7045c7-29c6-4dc2-a72b-9f779aaa2c60        VIDEO   \n",
      "14488  68fd6c3e-f4cd-4b92-8754-693d58b399e5        STORY   \n",
      "14489  d587e7cf-52c8-4493-968b-9af4c4ac0e3d  SHORT_VIDEO   \n",
      "14490  b203cddf-d657-44be-a4bc-dfa71e810418        VIDEO   \n",
      "\n",
      "                                    user_id                  liked_date  \n",
      "0      73f8f843-0af1-4bca-b6c4-be163c2f299d  2022-07-30 21:40:41.761000  \n",
      "1      9651d425-a857-4896-b39c-e2523b45588c  2022-07-30 21:37:51.638000  \n",
      "2      982472af-02dc-44c4-a4b0-3d8423cc9a5c  2022-07-31 16:30:39.653000  \n",
      "3      20807b4a-dda2-4cf5-99b8-17c16cb2b359  2022-07-31 17:12:27.486000  \n",
      "4      8272b4ba-326c-4a6f-9552-236d8ae9357b  2022-08-01 01:01:59.285000  \n",
      "...                                     ...                         ...  \n",
      "14486  77b5e9e8-bddc-4fdc-9151-bcfef35ef9c9  2022-10-24 12:55:30.332000  \n",
      "14487  612836a5-b2ab-43f7-b7a0-7366ebaf8be8  2022-10-24 14:04:14.949000  \n",
      "14488  4f97cabd-fb6c-43d4-bfcd-23015be95703  2022-10-24 14:17:34.959000  \n",
      "14489  7a59c2e9-69ae-431b-bc20-6d87908ab134  2022-10-24 15:37:25.524000  \n",
      "14490  af07ce9e-d19b-4fc4-b1aa-89c78e74cded  2022-10-24 16:08:47.071000  \n",
      "\n",
      "[14491 rows x 4 columns]\n",
      "(14491, 4)\n"
     ]
    }
   ],
   "source": [
    "# Load Movies Metadata\n",
    "data = pd.read_csv('user_like_new.csv', low_memory=False)\n",
    "# Print the first three rows\n",
    "data.head()\n",
    "#print(data.to_string())\n",
    "size = data.shape\n",
    "print(data)  \n",
    "print (data.shape)\n",
    "media_id_vec= data['media_id'].unique()\n",
    "#print(len(media_id_vec))\n",
    "user_id_vec = data['user_id'].unique()"
   ]
  },
  {
   "cell_type": "code",
   "execution_count": 41,
   "id": "2f7112cc",
   "metadata": {},
   "outputs": [],
   "source": [
    "count = 0 \n",
    "user_liked_list = []\n",
    "for u_item in user_id_vec:\n",
    "\tmforu_valus=data[data['user_id']== u_item]['media_id'].value_counts()\n",
    "\tif (mforu_valus.sum() != len (mforu_valus)):\n",
    "\t\tcount=count+1\n",
    "\tuser_liked_list.append(mforu_valus.sum())\n",
    "\n",
    "count_u =0\n",
    "media_liked_list = []\n",
    "for m_item in media_id_vec:\n",
    "\tuform_valus=data[data['media_id']== m_item]['user_id'].value_counts()\n",
    "\tif (uform_valus.sum() != 0):\n",
    "\t\tcount_u=count_u+1\n",
    "\tmedia_liked_list.append(uform_valus.sum())"
   ]
  },
  {
   "cell_type": "code",
   "execution_count": 42,
   "id": "73f6b073",
   "metadata": {},
   "outputs": [],
   "source": [
    "f = plt.figure(1)\n",
    "g = plt.figure(2)\n",
    "h = plt.figure(3)\n",
    "k = plt.figure(4)\n",
    "x = list (range(len (user_liked_list)))\n",
    "plt.plot(x, user_liked_list)\n",
    "plt.xlabel('x - axis')\n",
    "# naming the y axis\n",
    "plt.ylabel('y - axis')\n",
    "  \n",
    "# giving a title to my graph\n",
    "plt.title('Number of items which has been liked by each user')\n",
    "f.show()\n"
   ]
  },
  {
   "cell_type": "code",
   "execution_count": 43,
   "id": "a13d97c5",
   "metadata": {},
   "outputs": [],
   "source": [
    "plt.hist(user_liked_list)\n",
    "plt.title(\"histogram of users' liked numbers\")\n",
    "g.show() "
   ]
  },
  {
   "cell_type": "code",
   "execution_count": 44,
   "id": "cfbf9d5c",
   "metadata": {},
   "outputs": [],
   "source": [
    "x = list (range(len (media_liked_list)))\n",
    "plt.plot(x, media_liked_list)\n",
    "plt.xlabel('x - axis')\n",
    "# naming the y axis\n",
    "plt.ylabel('y - axis')\n",
    "# giving a title to my graph\n",
    "plt.title('Number of users who has liked each media item')\n",
    "# function to show the plot\n",
    "h.show()"
   ]
  },
  {
   "cell_type": "code",
   "execution_count": 45,
   "id": "da091281",
   "metadata": {},
   "outputs": [],
   "source": [
    "plt.hist(media_liked_list)\n",
    "plt.title(\"histogram of medias' liked numbers\")\n",
    "k.show()"
   ]
  },
  {
   "cell_type": "code",
   "execution_count": 46,
   "id": "b1ed504b",
   "metadata": {},
   "outputs": [
    {
     "name": "stdout",
     "output_type": "stream",
     "text": [
      "0 Number of users liked an item mor than once\n",
      "5108 NUmber of items have never been liked by any user\n"
     ]
    }
   ],
   "source": [
    "print(count, \"Number of users liked an item mor than once\")\n",
    "print(count_u, \"NUmber of items have never been liked by any user\")"
   ]
  },
  {
   "cell_type": "code",
   "execution_count": null,
   "id": "ba844748",
   "metadata": {},
   "outputs": [],
   "source": []
  },
  {
   "cell_type": "code",
   "execution_count": null,
   "id": "953c06a3",
   "metadata": {},
   "outputs": [],
   "source": []
  },
  {
   "cell_type": "code",
   "execution_count": null,
   "id": "603759a8",
   "metadata": {},
   "outputs": [],
   "source": []
  }
 ],
 "metadata": {
  "kernelspec": {
   "display_name": "Python 3 (ipykernel)",
   "language": "python",
   "name": "python3"
  },
  "language_info": {
   "codemirror_mode": {
    "name": "ipython",
    "version": 3
   },
   "file_extension": ".py",
   "mimetype": "text/x-python",
   "name": "python",
   "nbconvert_exporter": "python",
   "pygments_lexer": "ipython3",
   "version": "3.8.10"
  }
 },
 "nbformat": 4,
 "nbformat_minor": 5
}
